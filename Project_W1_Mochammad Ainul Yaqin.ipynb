{
 "cells": [
  {
   "cell_type": "markdown",
   "metadata": {
    "id": "gVVGjd4mZWOS"
   },
   "source": [
    "## Question No. 1 \n",
    "Buatlah sebuah program untuk melakukan pendataan penduduk dari NIK untuk mengetahui Umur dan Jenis Kelamin\n",
    "\n",
    "*Note:*\n",
    "- Untuk **PRIA** tanggal lahirnya memiliki format dd-mm-yy\n",
    "- Untuk **WANITA** tanggal lahirnya memiliki format (dd+40) - mm - yy\n",
    "\n",
    "`EXAMPLE 1`:\n",
    "\n",
    "Input:\n",
    "\n",
    "> 3172014212960005\n",
    "\n",
    "Output\n",
    "\n",
    "> Perempuan, 26 (Age)\n",
    "\n",
    "`EXAMPLE 2`:\n",
    "\n",
    "Input:\n",
    "\n",
    "> 3172042211950004\n",
    "\n",
    "Output\n",
    "\n",
    "> Pria, 27"
   ]
  },
  {
   "cell_type": "markdown",
   "metadata": {
    "id": "GiSBqj_WZdLr"
   },
   "source": [
    "### Code"
   ]
  },
  {
   "cell_type": "code",
   "execution_count": 18,
   "metadata": {
    "id": "KNEMQKfAZetc"
   },
   "outputs": [
    {
     "name": "stdout",
     "output_type": "stream",
     "text": [
      "Nomor nik:3517190903961234\n",
      "Tanggal lahir : Saturday, 1996-03-09\n",
      "Umur \t      : 26 tahun\n",
      "jenis kelamin : Laki-Laki\n"
     ]
    }
   ],
   "source": [
    "import datetime\n",
    "from datetime import date\n",
    "\n",
    "nik = input('Nomor nik:')\n",
    "tanggal = nik[6:8]\n",
    "bulan = nik[8:10]\n",
    "tahun = nik[10:12]\n",
    "\n",
    "bln = int(bulan)\n",
    "thn = int(tahun)\n",
    "th_skrg = datetime.datetime.now().year\n",
    "\n",
    "if thn + 2000 > th_skrg:\n",
    "    th_lhr = '19' + tahun\n",
    "else:\n",
    "    th_lhr = '20' + tahun\n",
    "\n",
    "if int(tanggal) > 40:\n",
    "    tgl_prp = int(tanggal)-40\n",
    "    tanggal_lahir = date(int(th_lhr), bln, tgl_prp)\n",
    "    hari_ini = date.today()\n",
    "    umur_hari = hari_ini - tanggal_lahir\n",
    "    umur_tahun = umur_hari.days // 365\n",
    "    \n",
    "    print(f\"Tanggal lahir : {tanggal_lahir:%A}, {tanggal_lahir}\")\n",
    "    print(f\"Umur \\t      : {umur_tahun} tahun\")\n",
    "    print(\"Jenis kelamin : Perempuan\")\n",
    "    \n",
    "else:\n",
    "    tgl_lk = int(tanggal)\n",
    "    tanggal_lahir = date(int(th_lhr), bln, tgl_lk)\n",
    "    hari_ini = date.today()\n",
    "    umur_hari = hari_ini - tanggal_lahir\n",
    "    umur_tahun = umur_hari.days // 365\n",
    "    \n",
    "    print(f\"Tanggal lahir : {tanggal_lahir:%A}, {tanggal_lahir}\")\n",
    "    print(f\"Umur \\t      : {umur_tahun} tahun\")\n",
    "    print(\"jenis kelamin : Laki-Laki\")"
   ]
  },
  {
   "cell_type": "code",
   "execution_count": 5,
   "metadata": {},
   "outputs": [
    {
     "data": {
      "text/plain": [
       "int"
      ]
     },
     "execution_count": 5,
     "metadata": {},
     "output_type": "execute_result"
    }
   ],
   "source": [
    "import datetime\n",
    "from datetime import date\n",
    "\n",
    "th_skrg = datetime.datetime.now().year\n",
    "type(th_skrg)"
   ]
  },
  {
   "cell_type": "markdown",
   "metadata": {
    "id": "DG73DyDIZgXQ"
   },
   "source": [
    "## Bonus Question No. 1\n",
    "\n",
    "Diberikan beberapa data NIK, lalu:\n",
    "- Hitung jumlah data NIK yang tersedia\n",
    "- Hitung jumlah Pria\n",
    "- Hitung jumlah Wanita\n",
    "- Hitung jumlah yang balita (0-5 tahun)\n",
    "- Hitung jumlah yang anak kecil (6-15 tahun)\n",
    "- Hitung jumlah yang remaja (16-24 tahun)\n",
    "- Hitung jumlah yang masa produktif (25-50 tahun)\n",
    "- Hitung jumlah yang pensiun (50-60 tahun)\n",
    "- Hitung jumlah yang lansia (60 ~)"
   ]
  },
  {
   "cell_type": "markdown",
   "metadata": {
    "id": "eyzzIy7tZlYE"
   },
   "source": [
    "### Code"
   ]
  },
  {
   "cell_type": "code",
   "execution_count": 2,
   "metadata": {
    "id": "Qhi0HzspZsN7"
   },
   "outputs": [
    {
     "name": "stdout",
     "output_type": "stream",
     "text": [
      "\n",
      "          Jumlah Pria   : 6,   Jumlah Wanita    : 4\n",
      "          Jumlah Balita : 2,   Jumlah Anak Kecil: 1\n",
      "          Jumlah Remaja : 2,   Jumlah Produktif : 4\n",
      "          Jumlah Pensiun: 0,   Jumlah Lansia    : 1\n",
      "          \n"
     ]
    }
   ],
   "source": [
    "import datetime\n",
    "from datetime import date\n",
    "\n",
    "list_nik = ['3172042211950004',\n",
    "            '3174070505970002',\n",
    "            '3172046409000007',\n",
    "            '3172040603060005',\n",
    "            '3172042106610002',\n",
    "            '3172467001210009',\n",
    "            '3172205712220001',\n",
    "            '3172062107130008',\n",
    "            '3172465210820007',\n",
    "            '3172462102900004'\n",
    "           ]\n",
    "\n",
    "def data_nik(n):\n",
    "    jml_lk = 0\n",
    "    jml_pr = 0\n",
    "    balita = 0\n",
    "    anak_kecil = 0\n",
    "    remaja = 0\n",
    "    produktif = 0\n",
    "    pensiun = 0\n",
    "    lansia = 0\n",
    "    \n",
    "    i = 0\n",
    "    while i < len(n):\n",
    "        tanggal = n[i][6:8]\n",
    "        \n",
    "        if int(tanggal) > 40:\n",
    "            jml_pr += 1\n",
    "        else:\n",
    "            jml_lk += 1\n",
    "        i += 1\n",
    "        if i == len(n):\n",
    "            break\n",
    "    \n",
    "    i = 0\n",
    "    while i < len(n):\n",
    "        tanggal = n[i][6:8]\n",
    "        bulan = n[i][8:10]\n",
    "        tahun = n[i][10:12]\n",
    "        \n",
    "        bln = int(bulan)\n",
    "        thn = int(tahun)\n",
    "        th_skrg = datetime.datetime.now().year\n",
    "        \n",
    "        if thn + 2000 > int(th_skrg):\n",
    "            th_lhr = '19' + tahun\n",
    "        else:\n",
    "            th_lhr = '20' + tahun\n",
    "        \n",
    "        if int(tanggal) > 40:\n",
    "            tgl_prp = int(tanggal)-40\n",
    "            tanggal_lahir = date(int(th_lhr), bln, tgl_prp)\n",
    "            hari_ini = date.today()\n",
    "            umur_hari = hari_ini - tanggal_lahir\n",
    "            umur_tahun = umur_hari.days // 365\n",
    "            \n",
    "            if umur_tahun in range(0,6):\n",
    "                balita += 1\n",
    "            elif umur_tahun in range(6,16):\n",
    "                anak_kecil += 1\n",
    "            elif umur_tahun in range(16,25):\n",
    "                remaja += 1\n",
    "            elif umur_tahun in range(25,51):\n",
    "                produktif += 1\n",
    "            elif umur_tahun in range(51,61):\n",
    "                pensiun += 1\n",
    "            else:\n",
    "                lansia += 1\n",
    "        else:\n",
    "            tgl_lk = int(tanggal)\n",
    "            tanggal_lahir = date(int(th_lhr), bln, tgl_lk)\n",
    "            hari_ini = date.today()\n",
    "            umur_hari = hari_ini - tanggal_lahir\n",
    "            umur_tahun = umur_hari.days // 365\n",
    "            \n",
    "            if umur_tahun in range(0,6):\n",
    "                balita += 1\n",
    "            elif umur_tahun in range(6,16):\n",
    "                anak_kecil += 1\n",
    "            elif umur_tahun in range(16,25):\n",
    "                remaja += 1\n",
    "            elif umur_tahun in range(25,51):\n",
    "                produktif += 1\n",
    "            elif umur_tahun in range(51,61):\n",
    "                pensiun += 1\n",
    "            else:\n",
    "                lansia += 1\n",
    "        i += 1\n",
    "        if i == len(n):\n",
    "            break\n",
    "            \n",
    "    print(f'''\n",
    "          Jumlah Pria   : {jml_lk},   Jumlah Wanita    : {jml_pr}\n",
    "          Jumlah Balita : {balita},   Jumlah Anak Kecil: {anak_kecil}\n",
    "          Jumlah Remaja : {remaja},   Jumlah Produktif : {produktif}\n",
    "          Jumlah Pensiun: {pensiun},   Jumlah Lansia    : {lansia}\n",
    "          ''')\n",
    "            \n",
    "data_nik(list_nik)"
   ]
  },
  {
   "cell_type": "markdown",
   "metadata": {
    "id": "ci04gtb2ZxjF"
   },
   "source": [
    "## Question No. 2\n",
    "Buatlah sebuah program/fungsi yang dapat melakukan input plat nomor kendaraan sebanyak **N** dengan format:\n",
    "\n",
    "\"X 0000 XXX\" dimana X adalah alfabet uppercase dan 0 adalah numeric \n",
    "\n",
    "EXAMPLE 1\n",
    "\n",
    "Input:\n",
    "\n",
    "> 5\n",
    "\n",
    "Output:\n",
    "\n",
    "> ['P 9350 HZF', 'G 1872 VGW', 'Z 6250 LMH', 'F 3142 JVH', 'S 4643 BSF']"
   ]
  },
  {
   "cell_type": "markdown",
   "metadata": {
    "id": "ioPaOPNjZ02d"
   },
   "source": [
    "### Code"
   ]
  },
  {
   "cell_type": "code",
   "execution_count": 19,
   "metadata": {
    "id": "1d7dN9VwZ2dK"
   },
   "outputs": [
    {
     "name": "stdout",
     "output_type": "stream",
     "text": [
      "Mau berapa nomor: 3\n",
      "['C 7786 YDB', 'C 2346 FTL', 'D 5148 KVJ']\n"
     ]
    }
   ],
   "source": [
    "import string\n",
    "import random\n",
    " \n",
    "#fungsi huruf acak 1\n",
    "def huruf_acak1():\n",
    "    huruf1 = ''\n",
    "    for i in random.choices(string.ascii_letters, k = 1):\n",
    "        huruf1 += i.upper()\n",
    "    return huruf1\n",
    "\n",
    "#fungsi huruf acak 2\n",
    "def huruf_acak2():\n",
    "    huruf2 = ''\n",
    "    for i in random.choices(string.ascii_letters, k = 3):\n",
    "        huruf2 += i.upper()\n",
    "    return huruf2\n",
    "\n",
    "#fungsi angka_acak\n",
    "def angka_acak():\n",
    "    angka = ''\n",
    "    for i in str(random.randint(1000,9999)):\n",
    "        angka += i\n",
    "    return angka\n",
    "    \n",
    "plat = input(\"Mau berapa nomor: \")\n",
    "\n",
    "#fungsi print plat sebanyak n\n",
    "def print_plat():\n",
    "    list_plat = []\n",
    "    for i in range(int(plat)):\n",
    "        gabungan_abc = str(huruf_acak1()) + \" \" + str(angka_acak()) + \" \" + str(huruf_acak2())\n",
    "        list_plat.append(gabungan_abc)\n",
    "    return list_plat\n",
    "\n",
    "data_plat = print_plat()\n",
    "print(data_plat)"
   ]
  },
  {
   "cell_type": "markdown",
   "metadata": {
    "id": "9Mn5VEZuZ3Q0"
   },
   "source": [
    "## Bonus Question No. 2\n",
    "\n",
    "Buat sebuah fungsi yang dapat membedakan No plat hasil dari program kalian sebelumnya untuk dibedakan Ganjil dan Genap\n",
    "\n",
    "EXAMPLE 1\n",
    "\n",
    "Input:\n",
    "\n",
    "> 'B 6127 UUZ'\n",
    "\n",
    "Output:\n",
    "\n",
    "> B 6127 UUZ merupakan Plat Ganjil"
   ]
  },
  {
   "cell_type": "markdown",
   "metadata": {
    "id": "hGhhDn5ZZ606"
   },
   "source": [
    "### Code"
   ]
  },
  {
   "cell_type": "code",
   "execution_count": 20,
   "metadata": {},
   "outputs": [
    {
     "name": "stdout",
     "output_type": "stream",
     "text": [
      "C 7786 YDB merupakan plat genap\n",
      "C 2346 FTL merupakan plat genap\n",
      "D 5148 KVJ merupakan plat genap\n"
     ]
    }
   ],
   "source": [
    "def cek_data_plat(n):\n",
    "    i = 0\n",
    "    while i < len(n):\n",
    "        if int(n[i][2:6]) % 2 == 0:\n",
    "            print(f\"{n[i]} merupakan plat genap\")\n",
    "        else:\n",
    "            print(f\"{n[i]} merupakan plat ganjil\")\n",
    "        i += 1\n",
    "        if i == len(n):\n",
    "            break\n",
    "cek_data_plat(data_plat)"
   ]
  }
 ],
 "metadata": {
  "colab": {
   "provenance": []
  },
  "kernelspec": {
   "display_name": "Python 3 (ipykernel)",
   "language": "python",
   "name": "python3"
  },
  "language_info": {
   "codemirror_mode": {
    "name": "ipython",
    "version": 3
   },
   "file_extension": ".py",
   "mimetype": "text/x-python",
   "name": "python",
   "nbconvert_exporter": "python",
   "pygments_lexer": "ipython3",
   "version": "3.9.13"
  }
 },
 "nbformat": 4,
 "nbformat_minor": 1
}
